{
 "cells": [
  {
   "cell_type": "code",
   "execution_count": 1,
   "metadata": {
    "ExecuteTime": {
     "end_time": "2019-12-08T03:31:37.441975Z",
     "start_time": "2019-12-08T03:31:37.372803Z"
    }
   },
   "outputs": [],
   "source": [
    "import pymongo\n",
    "\n",
    "myclient = pymongo.MongoClient(\"mongodb://35.240.134.199:27017/\")\n",
    "\n",
    "mydb = myclient[\"mydb\"]\n",
    "\n",
    "mycol = mydb[\"things\"]"
   ]
  },
  {
   "cell_type": "code",
   "execution_count": 2,
   "metadata": {
    "ExecuteTime": {
     "end_time": "2019-12-08T03:31:37.446770Z",
     "start_time": "2019-12-08T03:31:37.443802Z"
    },
    "scrolled": true
   },
   "outputs": [],
   "source": [
    "results = mycol.find({ \"Year\": 2003, \"Arrest\":\"False\"})"
   ]
  },
  {
   "cell_type": "code",
   "execution_count": 3,
   "metadata": {
    "ExecuteTime": {
     "end_time": "2019-12-08T03:31:42.895165Z",
     "start_time": "2019-12-08T03:31:37.448355Z"
    },
    "scrolled": false
   },
   "outputs": [
    {
     "name": "stderr",
     "output_type": "stream",
     "text": [
      "C:\\Users\\shenkong\\AppData\\Local\\Continuum\\anaconda3\\lib\\site-packages\\ipykernel_launcher.py:1: DeprecationWarning: count is deprecated. Use Collection.count_documents instead.\n",
      "  \"\"\"Entry point for launching an IPython kernel.\n"
     ]
    },
    {
     "data": {
      "text/plain": [
       "334350"
      ]
     },
     "execution_count": 3,
     "metadata": {},
     "output_type": "execute_result"
    }
   ],
   "source": [
    "results.count()"
   ]
  },
  {
   "cell_type": "code",
   "execution_count": 4,
   "metadata": {
    "ExecuteTime": {
     "end_time": "2019-12-08T03:46:24.678609Z",
     "start_time": "2019-12-08T03:46:24.483047Z"
    }
   },
   "outputs": [
    {
     "data": {
      "text/plain": [
       "<pymongo.results.InsertOneResult at 0x282a9357cc8>"
      ]
     },
     "execution_count": 4,
     "metadata": {},
     "output_type": "execute_result"
    }
   ],
   "source": [
    "mycol.insert_one({\"ID\":1, \"Arrest\":\"True\", \"Beat\":\"20\", \"Year\":2010})\n",
    "mycol.insert_one({\"ID\":2, \"Arrest\":\"True\", \"Beat\":\"21\", \"Year\":2011})\n",
    "mycol.insert_one({\"ID\":3, \"Arrest\":\"True\", \"Beat\":\"22\", \"Year\":2012})"
   ]
  },
  {
   "cell_type": "code",
   "execution_count": null,
   "metadata": {},
   "outputs": [],
   "source": []
  }
 ],
 "metadata": {
  "kernelspec": {
   "display_name": "Python 3",
   "language": "python",
   "name": "python3"
  },
  "language_info": {
   "codemirror_mode": {
    "name": "ipython",
    "version": 3
   },
   "file_extension": ".py",
   "mimetype": "text/x-python",
   "name": "python",
   "nbconvert_exporter": "python",
   "pygments_lexer": "ipython3",
   "version": "3.7.3"
  }
 },
 "nbformat": 4,
 "nbformat_minor": 2
}
