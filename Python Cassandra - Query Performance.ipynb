{
 "cells": [
  {
   "cell_type": "code",
   "execution_count": 1,
   "metadata": {
    "ExecuteTime": {
     "end_time": "2019-12-08T03:30:54.513826Z",
     "start_time": "2019-12-08T03:30:53.333215Z"
    }
   },
   "outputs": [],
   "source": [
    "from cassandra.cluster import Cluster\n",
    "\n",
    "cluster = Cluster(['35.198.223.242'],port=9042)\n",
    "\n",
    "session = cluster.connect()\n",
    "\n",
    "# set keyspace to 'testdb'\n",
    "session.set_keyspace('testdb')"
   ]
  },
  {
   "cell_type": "code",
   "execution_count": 2,
   "metadata": {
    "ExecuteTime": {
     "end_time": "2019-12-08T03:30:54.944784Z",
     "start_time": "2019-12-08T03:30:54.516483Z"
    }
   },
   "outputs": [],
   "source": [
    "results = session.execute(\"SELECT * FROM CRIMESTABLE WHERE YEAR=2003 AND ARREST=FALSE ALLOW FILTERING\")"
   ]
  },
  {
   "cell_type": "code",
   "execution_count": 3,
   "metadata": {
    "ExecuteTime": {
     "end_time": "2019-12-08T03:31:18.548378Z",
     "start_time": "2019-12-08T03:30:54.946500Z"
    }
   },
   "outputs": [
    {
     "data": {
      "text/plain": [
       "334350"
      ]
     },
     "execution_count": 3,
     "metadata": {},
     "output_type": "execute_result"
    }
   ],
   "source": [
    "results = list(results)\n",
    "len(results)"
   ]
  },
  {
   "cell_type": "code",
   "execution_count": 5,
   "metadata": {
    "ExecuteTime": {
     "end_time": "2019-12-08T03:43:31.263913Z",
     "start_time": "2019-12-08T03:43:31.164587Z"
    }
   },
   "outputs": [
    {
     "data": {
      "text/plain": [
       "<cassandra.cluster.ResultSet at 0x1ded9b83048>"
      ]
     },
     "execution_count": 5,
     "metadata": {},
     "output_type": "execute_result"
    }
   ],
   "source": [
    "session.execute(\"INSERT INTO CRIMESTABLE (ID, ARREST, BEAT, YEAR) VALUES (1, TRUE, 20, 2010)\")\n",
    "session.execute(\"INSERT INTO CRIMESTABLE (ID, ARREST, BEAT, YEAR) VALUES (2, TRUE, 21, 2011)\")\n",
    "session.execute(\"INSERT INTO CRIMESTABLE (ID, ARREST, BEAT, YEAR) VALUES (3, TRUE, 22, 2012)\")"
   ]
  },
  {
   "cell_type": "code",
   "execution_count": null,
   "metadata": {},
   "outputs": [],
   "source": []
  }
 ],
 "metadata": {
  "kernelspec": {
   "display_name": "Python 3",
   "language": "python",
   "name": "python3"
  },
  "language_info": {
   "codemirror_mode": {
    "name": "ipython",
    "version": 3
   },
   "file_extension": ".py",
   "mimetype": "text/x-python",
   "name": "python",
   "nbconvert_exporter": "python",
   "pygments_lexer": "ipython3",
   "version": "3.7.3"
  }
 },
 "nbformat": 4,
 "nbformat_minor": 2
}
