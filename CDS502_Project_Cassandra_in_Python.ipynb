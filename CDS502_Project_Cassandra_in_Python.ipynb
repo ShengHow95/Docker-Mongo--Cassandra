{
 "cells": [
  {
   "cell_type": "markdown",
   "metadata": {},
   "source": [
    "### 1.0 Connect to Cssandra container server in GCP"
   ]
  },
  {
   "cell_type": "code",
   "execution_count": 1,
   "metadata": {},
   "outputs": [],
   "source": [
    "from cassandra.cluster import Cluster\n",
    "\n",
    "cluster = Cluster(['35.198.223.242'],port=9042)\n",
    "\n",
    "session = cluster.connect()\n",
    "\n",
    "# set keyspace to 'testdb'\n",
    "session.set_keyspace('testdb')"
   ]
  },
  {
   "cell_type": "markdown",
   "metadata": {},
   "source": [
    "### 2.0 Perform python query "
   ]
  },
  {
   "cell_type": "markdown",
   "metadata": {},
   "source": [
    "### 2.1 Query with ‘SELECT’ and ‘ALLOW FILTERING’: \n",
    "---> To analyse caught or uncaught \"Homicide\" cases over the years."
   ]
  },
  {
   "cell_type": "code",
   "execution_count": 2,
   "metadata": {},
   "outputs": [
    {
     "name": "stdout",
     "output_type": "stream",
     "text": [
      "[Row(arrest=True, description='FIRST DEGREE MURDER', year=2007), Row(arrest=True, description='FIRST DEGREE MURDER', year=2005), Row(arrest=False, description='FIRST DEGREE MURDER', year=2002), Row(arrest=True, description='FIRST DEGREE MURDER', year=2009), Row(arrest=True, description='FIRST DEGREE MURDER', year=2008)]\n"
     ]
    }
   ],
   "source": [
    "results = session.execute(\"SELECT Arrest, Description, Year FROM CRIMESTABLE WHERE PrimaryType='HOMICIDE'LIMIT 5 ALLOW FILTERING;\")\n",
    "results = list(results)\n",
    "\n",
    "print(results)"
   ]
  },
  {
   "cell_type": "markdown",
   "metadata": {},
   "source": [
    "### 2.2 Query with ‘SELECT’ and ‘AND’ Operator:\n",
    "---> To determine location and crimes types for not arrested crimes happened in year 2015"
   ]
  },
  {
   "cell_type": "code",
   "execution_count": 3,
   "metadata": {},
   "outputs": [
    {
     "name": "stdout",
     "output_type": "stream",
     "text": [
      "[Row(locationdescription='SCHOOL, PRIVATE, BUILDING', primarytype='ASSAULT'), Row(locationdescription='OTHER', primarytype='THEFT'), Row(locationdescription='RESIDENCE', primarytype='DECEPTIVE PRACTICE'), Row(locationdescription='RESIDENCE', primarytype='DECEPTIVE PRACTICE'), Row(locationdescription='APARTMENT', primarytype='BURGLARY')]\n"
     ]
    }
   ],
   "source": [
    "results = session.execute(\"SELECT locationdescription, primarytype FROM CRIMESTABLE WHERE Year=2015 AND ARREST=FALSE LIMIT 5 ALLOW FILTERING\")\n",
    "results = list(results)\n",
    "\n",
    "print(results)"
   ]
  },
  {
   "cell_type": "markdown",
   "metadata": {},
   "source": [
    "### 2.3 Query with ‘SELECT’ for a range of data:\n",
    "---> To determine crimes happen after year 2017"
   ]
  },
  {
   "cell_type": "code",
   "execution_count": 4,
   "metadata": {},
   "outputs": [
    {
     "name": "stdout",
     "output_type": "stream",
     "text": [
      "[Row(location='(41.881183104, -87.68498211)', primarytype='THEFT', arrest=True), Row(location='(41.96120509, -87.715905512)', primarytype='ASSAULT', arrest=False), Row(location='(41.904493689, -87.643246928)', primarytype='CRIMINAL TRESPASS', arrest=True), Row(location='(41.914824157, -87.690740714)', primarytype='BATTERY', arrest=False), Row(location='(41.900870422, -87.624184899)', primarytype='DECEPTIVE PRACTICE', arrest=True)]\n"
     ]
    }
   ],
   "source": [
    "results = session.execute(\"SELECT location, primarytype, ARREST FROM CRIMESTABLE WHERE DATE > 2017 LIMIT 5 ALLOW FILTERING\")\n",
    "results = list(results)\n",
    "\n",
    "print(results)"
   ]
  },
  {
   "cell_type": "markdown",
   "metadata": {},
   "source": [
    "### 2.4 Query with ‘SELECT’ and ‘IN’\n",
    "---> To combine few queries into one "
   ]
  },
  {
   "cell_type": "code",
   "execution_count": 5,
   "metadata": {},
   "outputs": [
    {
     "name": "stdout",
     "output_type": "stream",
     "text": [
      "[Row(location='(41.811945022, -87.624532026)', year=2005, description='DOMESTIC BATTERY SIMPLE'), Row(location='(41.793141605, -87.684021912)', year=2005, description='PURSE-SNATCHING'), Row(location='(41.926897106, -87.754402685)', year=2005, description='TO PROPERTY')]\n"
     ]
    }
   ],
   "source": [
    "results = session.execute(\"SELECT Location, Year, Description FROM CRIMESTABLE WHERE Id in (3827764,4277057,4340889)\")\n",
    "results = list(results)\n",
    "\n",
    "print(results)"
   ]
  },
  {
   "cell_type": "markdown",
   "metadata": {},
   "source": [
    "### 2.5 Writing data record with “INSERT”\n",
    "---> To insert and store data"
   ]
  },
  {
   "cell_type": "code",
   "execution_count": 9,
   "metadata": {},
   "outputs": [
    {
     "name": "stdout",
     "output_type": "stream",
     "text": [
      "[Row(id=3, year=2012, arrest=True, beat=22, block=None, casenumber=None, communityarea=None, date=None, description=None, district=None, domestic=None, fbicode=None, iucr=None, latitude=None, location=None, locationdescription=None, longitude=None, primarytype=None, updatedon=None, ward=None, xcoordinate=None, ycoordinate=None), Row(id=3, year=2014, arrest=True, beat=23, block=None, casenumber=None, communityarea=None, date=None, description=None, district=None, domestic=None, fbicode=None, iucr=None, latitude=None, location=None, locationdescription=None, longitude=None, primarytype=None, updatedon=None, ward=None, xcoordinate=None, ycoordinate=None)]\n"
     ]
    }
   ],
   "source": [
    "results = session.execute(\"INSERT INTO CRIMESTABLE (ID,Arrest,Beat,Year) VALUES (1,TRUE,21,2016)\")\n",
    "results = session.execute(\"INSERT INTO CRIMESTABLE (ID,Arrest,Beat,Year) VALUES (2,FALSE,24,2015)\")     \n",
    "results = session.execute(\"INSERT INTO CRIMESTABLE (ID,Arrest,Beat,Year) VALUES (3,TRUE,23,2014)\")    \n",
    "\n",
    "results = session.execute(\"SELECT * FROM CRIMESTABLE WHERE ID=3\")\n",
    "results = list(results)\n",
    "\n",
    "print(results)"
   ]
  },
  {
   "cell_type": "code",
   "execution_count": null,
   "metadata": {},
   "outputs": [],
   "source": []
  }
 ],
 "metadata": {
  "kernelspec": {
   "display_name": "Python 3",
   "language": "python",
   "name": "python3"
  },
  "language_info": {
   "codemirror_mode": {
    "name": "ipython",
    "version": 3
   },
   "file_extension": ".py",
   "mimetype": "text/x-python",
   "name": "python",
   "nbconvert_exporter": "python",
   "pygments_lexer": "ipython3",
   "version": "3.7.4"
  }
 },
 "nbformat": 4,
 "nbformat_minor": 2
}
