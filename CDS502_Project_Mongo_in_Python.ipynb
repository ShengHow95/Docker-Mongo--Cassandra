{
 "cells": [
  {
   "cell_type": "markdown",
   "metadata": {},
   "source": [
    "# Mongo Queries in Mongo\n",
    "## Group Cincailah\n",
    "Kong Sheng How<br>\n",
    "Kng Chun Keat<br>\n",
    "Teoh Rui Wen<br>\n",
    "Chneg XiYang<br>\n",
    "Chu Kah Em"
   ]
  },
  {
   "cell_type": "code",
   "execution_count": 1,
   "metadata": {
    "collapsed": false
   },
   "outputs": [
    {
     "name": "stdout",
     "output_type": "stream",
     "text": [
      "['admin', 'config', 'local', 'mydb']\n"
     ]
    }
   ],
   "source": [
    "import pymongo\n",
    "\n",
    "##Connect to MongoDB Server\n",
    "myclient = pymongo.MongoClient(\"mongodb://35.240.134.199:27017/\")\n",
    "\n",
    "print(myclient.list_database_names())"
   ]
  },
  {
   "cell_type": "code",
   "execution_count": 2,
   "metadata": {
    "collapsed": false
   },
   "outputs": [
    {
     "name": "stdout",
     "output_type": "stream",
     "text": [
      "['things']\n"
     ]
    }
   ],
   "source": [
    "##Select and Use Database\n",
    "mydb = myclient[\"mydb\"]\n",
    "\n",
    "print(mydb.list_collection_names())"
   ]
  },
  {
   "cell_type": "code",
   "execution_count": 21,
   "metadata": {
    "collapsed": false
   },
   "outputs": [
    {
     "name": "stdout",
     "output_type": "stream",
     "text": [
      "{'_id': ObjectId('5dd7b513bcd0616fd5abbc3c'), 'ID': 3753774, 'Arrest': 'True', 'Beat': 2113, 'Block': '029XX S STATE ST', 'CaseNumber': 'HK769786', 'CommunityArea': 35.0, 'Date': '11/23/2004 10:15:00 PM', 'Description': 'POSS: HEROIN(WHITE)', 'District': 1.0, 'Domestic': 'False', 'FBICode': 18, 'IUCR': 2024, 'Latitude': 41.841350479, 'Location': '(41.841350479, -87.626860911)', 'LocationDescription': 'CHA PARKING LOT/GROUNDS', 'Longitude': -87.62686091100001, 'PrimaryType': 'NARCOTICS', 'UpdatedOn': '04/15/2016 08:55:02 AM', 'Ward': 3.0, 'XCoordinate': 1176755.0, 'YCoordinate': 1885570.0, 'Year': 2004}\n",
      "{'_id': ObjectId('5dd7b513bcd0616fd5abbc3c'), 'ID': 3753774, 'Arrest': 'True', 'Beat': 2113, 'Block': '029XX S STATE ST', 'CaseNumber': 'HK769786', 'CommunityArea': 35.0, 'Date': '11/23/2004 10:15:00 PM', 'Description': 'POSS: HEROIN(WHITE)', 'District': 1.0, 'Domestic': 'False', 'FBICode': 18, 'IUCR': 2024, 'Latitude': 41.841350479, 'Location': '(41.841350479, -87.626860911)', 'LocationDescription': 'CHA PARKING LOT/GROUNDS', 'Longitude': -87.62686091100001, 'PrimaryType': 'NARCOTICS', 'UpdatedOn': '04/15/2016 08:55:02 AM', 'Ward': 3.0, 'XCoordinate': 1176755.0, 'YCoordinate': 1885570.0, 'Year': 2004}\n",
      "{'_id': ObjectId('5dd7b513bcd0616fd5abbc3c'), 'ID': 3753774, 'Arrest': 'True', 'Beat': 2113, 'Block': '029XX S STATE ST', 'CaseNumber': 'HK769786', 'CommunityArea': 35.0, 'Date': '11/23/2004 10:15:00 PM', 'Description': 'POSS: HEROIN(WHITE)', 'District': 1.0, 'Domestic': 'False', 'FBICode': 18, 'IUCR': 2024, 'Latitude': 41.841350479, 'Location': '(41.841350479, -87.626860911)', 'LocationDescription': 'CHA PARKING LOT/GROUNDS', 'Longitude': -87.62686091100001, 'PrimaryType': 'NARCOTICS', 'UpdatedOn': '04/15/2016 08:55:02 AM', 'Ward': 3.0, 'XCoordinate': 1176755.0, 'YCoordinate': 1885570.0, 'Year': 2004}\n",
      "{'_id': ObjectId('5dd7b513bcd0616fd5abbc3c'), 'ID': 3753774, 'Arrest': 'True', 'Beat': 2113, 'Block': '029XX S STATE ST', 'CaseNumber': 'HK769786', 'CommunityArea': 35.0, 'Date': '11/23/2004 10:15:00 PM', 'Description': 'POSS: HEROIN(WHITE)', 'District': 1.0, 'Domestic': 'False', 'FBICode': 18, 'IUCR': 2024, 'Latitude': 41.841350479, 'Location': '(41.841350479, -87.626860911)', 'LocationDescription': 'CHA PARKING LOT/GROUNDS', 'Longitude': -87.62686091100001, 'PrimaryType': 'NARCOTICS', 'UpdatedOn': '04/15/2016 08:55:02 AM', 'Ward': 3.0, 'XCoordinate': 1176755.0, 'YCoordinate': 1885570.0, 'Year': 2004}\n",
      "{'_id': ObjectId('5dd7b513bcd0616fd5abbc3c'), 'ID': 3753774, 'Arrest': 'True', 'Beat': 2113, 'Block': '029XX S STATE ST', 'CaseNumber': 'HK769786', 'CommunityArea': 35.0, 'Date': '11/23/2004 10:15:00 PM', 'Description': 'POSS: HEROIN(WHITE)', 'District': 1.0, 'Domestic': 'False', 'FBICode': 18, 'IUCR': 2024, 'Latitude': 41.841350479, 'Location': '(41.841350479, -87.626860911)', 'LocationDescription': 'CHA PARKING LOT/GROUNDS', 'Longitude': -87.62686091100001, 'PrimaryType': 'NARCOTICS', 'UpdatedOn': '04/15/2016 08:55:02 AM', 'Ward': 3.0, 'XCoordinate': 1176755.0, 'YCoordinate': 1885570.0, 'Year': 2004}\n"
     ]
    }
   ],
   "source": [
    "##Select and Use Collections\n",
    "mycol = mydb[\"things\"]\n",
    "\n",
    "##Retrieve 5 data from database\n",
    "count = 5\n",
    "i=0\n",
    "for x in mycol.find():\n",
    "    while i<count:\n",
    "        print(x)\n",
    "        i+=1\n",
    "    break"
   ]
  },
  {
   "cell_type": "markdown",
   "metadata": {},
   "source": [
    "## Simple Find Query"
   ]
  },
  {
   "cell_type": "code",
   "execution_count": 5,
   "metadata": {
    "collapsed": false
   },
   "outputs": [
    {
     "name": "stdout",
     "output_type": "stream",
     "text": [
      "{'_id': ObjectId('5dd7b513bcd0616fd5abbc45'), 'ID': 3753789, 'Arrest': 'False', 'Beat': 523, 'Block': '126XX S HALSTED ST', 'CaseNumber': 'HL123269', 'CommunityArea': 53.0, 'Date': '01/13/2005 07:05:00 PM', 'Description': 'PURSE-SNATCHING', 'District': 5.0, 'Domestic': 'False', 'FBICode': 6, 'IUCR': 880, 'Latitude': 41.664294511, 'Location': '(41.664294511, -87.641455374)', 'LocationDescription': 'SIDEWALK', 'Longitude': -87.641455374, 'PrimaryType': 'THEFT', 'UpdatedOn': '04/15/2016 08:55:02 AM', 'Ward': 34.0, 'XCoordinate': 1173297.0, 'YCoordinate': 1821020.0, 'Year': 2005}\n",
      "{'_id': ObjectId('5dd7b513bcd0616fd5abbc45'), 'ID': 3753789, 'Arrest': 'False', 'Beat': 523, 'Block': '126XX S HALSTED ST', 'CaseNumber': 'HL123269', 'CommunityArea': 53.0, 'Date': '01/13/2005 07:05:00 PM', 'Description': 'PURSE-SNATCHING', 'District': 5.0, 'Domestic': 'False', 'FBICode': 6, 'IUCR': 880, 'Latitude': 41.664294511, 'Location': '(41.664294511, -87.641455374)', 'LocationDescription': 'SIDEWALK', 'Longitude': -87.641455374, 'PrimaryType': 'THEFT', 'UpdatedOn': '04/15/2016 08:55:02 AM', 'Ward': 34.0, 'XCoordinate': 1173297.0, 'YCoordinate': 1821020.0, 'Year': 2005}\n",
      "{'_id': ObjectId('5dd7b513bcd0616fd5abbc45'), 'ID': 3753789, 'Arrest': 'False', 'Beat': 523, 'Block': '126XX S HALSTED ST', 'CaseNumber': 'HL123269', 'CommunityArea': 53.0, 'Date': '01/13/2005 07:05:00 PM', 'Description': 'PURSE-SNATCHING', 'District': 5.0, 'Domestic': 'False', 'FBICode': 6, 'IUCR': 880, 'Latitude': 41.664294511, 'Location': '(41.664294511, -87.641455374)', 'LocationDescription': 'SIDEWALK', 'Longitude': -87.641455374, 'PrimaryType': 'THEFT', 'UpdatedOn': '04/15/2016 08:55:02 AM', 'Ward': 34.0, 'XCoordinate': 1173297.0, 'YCoordinate': 1821020.0, 'Year': 2005}\n",
      "{'_id': ObjectId('5dd7b513bcd0616fd5abbc45'), 'ID': 3753789, 'Arrest': 'False', 'Beat': 523, 'Block': '126XX S HALSTED ST', 'CaseNumber': 'HL123269', 'CommunityArea': 53.0, 'Date': '01/13/2005 07:05:00 PM', 'Description': 'PURSE-SNATCHING', 'District': 5.0, 'Domestic': 'False', 'FBICode': 6, 'IUCR': 880, 'Latitude': 41.664294511, 'Location': '(41.664294511, -87.641455374)', 'LocationDescription': 'SIDEWALK', 'Longitude': -87.641455374, 'PrimaryType': 'THEFT', 'UpdatedOn': '04/15/2016 08:55:02 AM', 'Ward': 34.0, 'XCoordinate': 1173297.0, 'YCoordinate': 1821020.0, 'Year': 2005}\n",
      "{'_id': ObjectId('5dd7b513bcd0616fd5abbc45'), 'ID': 3753789, 'Arrest': 'False', 'Beat': 523, 'Block': '126XX S HALSTED ST', 'CaseNumber': 'HL123269', 'CommunityArea': 53.0, 'Date': '01/13/2005 07:05:00 PM', 'Description': 'PURSE-SNATCHING', 'District': 5.0, 'Domestic': 'False', 'FBICode': 6, 'IUCR': 880, 'Latitude': 41.664294511, 'Location': '(41.664294511, -87.641455374)', 'LocationDescription': 'SIDEWALK', 'Longitude': -87.641455374, 'PrimaryType': 'THEFT', 'UpdatedOn': '04/15/2016 08:55:02 AM', 'Ward': 34.0, 'XCoordinate': 1173297.0, 'YCoordinate': 1821020.0, 'Year': 2005}\n"
     ]
    }
   ],
   "source": [
    "##Find five with Year = 2005 and PrimaryType = THEFT\n",
    "# db.things.find({Year : 2015, PrimaryType : \"THEFT\"}).count() \n",
    "count = 5\n",
    "i=0\n",
    "query = {\"Year\": 2005,\"PrimaryType\":\"THEFT\"}\n",
    "for x in mycol.find(query):\n",
    "    while i<count:\n",
    "        print(x)\n",
    "        i+=1\n",
    "    break"
   ]
  },
  {
   "cell_type": "markdown",
   "metadata": {},
   "source": [
    "## Find Query with $regex"
   ]
  },
  {
   "cell_type": "code",
   "execution_count": 8,
   "metadata": {
    "collapsed": false
   },
   "outputs": [
    {
     "name": "stdout",
     "output_type": "stream",
     "text": [
      "{'_id': ObjectId('5dd7b524bcd0616fd5b409ab'), 'ID': 19432, 'Arrest': 'True', 'Beat': 422, 'Block': '079XX S BRANDON AVE', 'CaseNumber': 'HS346379', 'CommunityArea': 46.0, 'Date': '06/06/2010 10:39:00 PM', 'Description': 'FIRST DEGREE MURDER', 'District': 4.0, 'Domestic': 'False', 'FBICode': '01A', 'IUCR': 110, 'Latitude': 41.751141883, 'Location': '(41.751141883, -87.54683123)', 'LocationDescription': 'STREET', 'Longitude': -87.54683123, 'PrimaryType': 'HOMICIDE', 'UpdatedOn': '06/22/2016 03:49:50 PM', 'Ward': 7.0, 'XCoordinate': 1198863.0, 'YCoordinate': 1852888.0, 'Year': 2010}\n",
      "{'_id': ObjectId('5dd7b524bcd0616fd5b409ab'), 'ID': 19432, 'Arrest': 'True', 'Beat': 422, 'Block': '079XX S BRANDON AVE', 'CaseNumber': 'HS346379', 'CommunityArea': 46.0, 'Date': '06/06/2010 10:39:00 PM', 'Description': 'FIRST DEGREE MURDER', 'District': 4.0, 'Domestic': 'False', 'FBICode': '01A', 'IUCR': 110, 'Latitude': 41.751141883, 'Location': '(41.751141883, -87.54683123)', 'LocationDescription': 'STREET', 'Longitude': -87.54683123, 'PrimaryType': 'HOMICIDE', 'UpdatedOn': '06/22/2016 03:49:50 PM', 'Ward': 7.0, 'XCoordinate': 1198863.0, 'YCoordinate': 1852888.0, 'Year': 2010}\n",
      "{'_id': ObjectId('5dd7b524bcd0616fd5b409ab'), 'ID': 19432, 'Arrest': 'True', 'Beat': 422, 'Block': '079XX S BRANDON AVE', 'CaseNumber': 'HS346379', 'CommunityArea': 46.0, 'Date': '06/06/2010 10:39:00 PM', 'Description': 'FIRST DEGREE MURDER', 'District': 4.0, 'Domestic': 'False', 'FBICode': '01A', 'IUCR': 110, 'Latitude': 41.751141883, 'Location': '(41.751141883, -87.54683123)', 'LocationDescription': 'STREET', 'Longitude': -87.54683123, 'PrimaryType': 'HOMICIDE', 'UpdatedOn': '06/22/2016 03:49:50 PM', 'Ward': 7.0, 'XCoordinate': 1198863.0, 'YCoordinate': 1852888.0, 'Year': 2010}\n",
      "{'_id': ObjectId('5dd7b524bcd0616fd5b409ab'), 'ID': 19432, 'Arrest': 'True', 'Beat': 422, 'Block': '079XX S BRANDON AVE', 'CaseNumber': 'HS346379', 'CommunityArea': 46.0, 'Date': '06/06/2010 10:39:00 PM', 'Description': 'FIRST DEGREE MURDER', 'District': 4.0, 'Domestic': 'False', 'FBICode': '01A', 'IUCR': 110, 'Latitude': 41.751141883, 'Location': '(41.751141883, -87.54683123)', 'LocationDescription': 'STREET', 'Longitude': -87.54683123, 'PrimaryType': 'HOMICIDE', 'UpdatedOn': '06/22/2016 03:49:50 PM', 'Ward': 7.0, 'XCoordinate': 1198863.0, 'YCoordinate': 1852888.0, 'Year': 2010}\n",
      "{'_id': ObjectId('5dd7b524bcd0616fd5b409ab'), 'ID': 19432, 'Arrest': 'True', 'Beat': 422, 'Block': '079XX S BRANDON AVE', 'CaseNumber': 'HS346379', 'CommunityArea': 46.0, 'Date': '06/06/2010 10:39:00 PM', 'Description': 'FIRST DEGREE MURDER', 'District': 4.0, 'Domestic': 'False', 'FBICode': '01A', 'IUCR': 110, 'Latitude': 41.751141883, 'Location': '(41.751141883, -87.54683123)', 'LocationDescription': 'STREET', 'Longitude': -87.54683123, 'PrimaryType': 'HOMICIDE', 'UpdatedOn': '06/22/2016 03:49:50 PM', 'Ward': 7.0, 'XCoordinate': 1198863.0, 'YCoordinate': 1852888.0, 'Year': 2010}\n"
     ]
    }
   ],
   "source": [
    "##Find five murder cases happened between 10 to 11pm\n",
    "# db.things.find({Description : {$regex: \"[^A-Za-z ]*MURDER\"}, Date: {$regex: \"[^1-9/]+ 10:[0-9]+:[0-9]+ PM\"}}).pretty() \n",
    "count = 5\n",
    "i=0\n",
    "query = {\"Description\" : {\"$regex\": \"[^A-Za-z ]*MURDER\"}, \n",
    "         \"Date\": {\"$regex\": \"[^1-9/]+ 10:[0-9]+:[0-9]+ PM\"}}\n",
    "for x in mycol.find(query):\n",
    "    while i<count:\n",
    "        print(x)\n",
    "        i+=1\n",
    "    break"
   ]
  },
  {
   "cell_type": "code",
   "execution_count": 9,
   "metadata": {
    "collapsed": false
   },
   "outputs": [
    {
     "name": "stdout",
     "output_type": "stream",
     "text": [
      "{'_id': ObjectId('5dd7b5e0bcd0616fd50d3b71'), 'ID': 3667459, 'Arrest': 'False', 'Beat': 411, 'Block': '076XX S SOUTH CHICAGO AVE', 'CaseNumber': 'HK767988', 'CommunityArea': 43.0, 'Date': '11/23/2004 02:15:00 AM', 'Description': 'AGGRAVATED: HANDGUN', 'District': 4.0, 'Domestic': 'False', 'FBICode': '04B', 'IUCR': '041A', 'Latitude': 41.756550472, 'Location': '(41.756550472, -87.592600053)', 'LocationDescription': 'GAS STATION', 'Longitude': -87.592600053, 'PrimaryType': 'BATTERY', 'UpdatedOn': '04/15/2016 08:55:02 AM', 'Ward': 5.0, 'XCoordinate': 1186357.0, 'YCoordinate': 1854748.0, 'Year': 2004}\n",
      "{'_id': ObjectId('5dd7b5e0bcd0616fd50d3b71'), 'ID': 3667459, 'Arrest': 'False', 'Beat': 411, 'Block': '076XX S SOUTH CHICAGO AVE', 'CaseNumber': 'HK767988', 'CommunityArea': 43.0, 'Date': '11/23/2004 02:15:00 AM', 'Description': 'AGGRAVATED: HANDGUN', 'District': 4.0, 'Domestic': 'False', 'FBICode': '04B', 'IUCR': '041A', 'Latitude': 41.756550472, 'Location': '(41.756550472, -87.592600053)', 'LocationDescription': 'GAS STATION', 'Longitude': -87.592600053, 'PrimaryType': 'BATTERY', 'UpdatedOn': '04/15/2016 08:55:02 AM', 'Ward': 5.0, 'XCoordinate': 1186357.0, 'YCoordinate': 1854748.0, 'Year': 2004}\n",
      "{'_id': ObjectId('5dd7b5e0bcd0616fd50d3b71'), 'ID': 3667459, 'Arrest': 'False', 'Beat': 411, 'Block': '076XX S SOUTH CHICAGO AVE', 'CaseNumber': 'HK767988', 'CommunityArea': 43.0, 'Date': '11/23/2004 02:15:00 AM', 'Description': 'AGGRAVATED: HANDGUN', 'District': 4.0, 'Domestic': 'False', 'FBICode': '04B', 'IUCR': '041A', 'Latitude': 41.756550472, 'Location': '(41.756550472, -87.592600053)', 'LocationDescription': 'GAS STATION', 'Longitude': -87.592600053, 'PrimaryType': 'BATTERY', 'UpdatedOn': '04/15/2016 08:55:02 AM', 'Ward': 5.0, 'XCoordinate': 1186357.0, 'YCoordinate': 1854748.0, 'Year': 2004}\n",
      "{'_id': ObjectId('5dd7b5e0bcd0616fd50d3b71'), 'ID': 3667459, 'Arrest': 'False', 'Beat': 411, 'Block': '076XX S SOUTH CHICAGO AVE', 'CaseNumber': 'HK767988', 'CommunityArea': 43.0, 'Date': '11/23/2004 02:15:00 AM', 'Description': 'AGGRAVATED: HANDGUN', 'District': 4.0, 'Domestic': 'False', 'FBICode': '04B', 'IUCR': '041A', 'Latitude': 41.756550472, 'Location': '(41.756550472, -87.592600053)', 'LocationDescription': 'GAS STATION', 'Longitude': -87.592600053, 'PrimaryType': 'BATTERY', 'UpdatedOn': '04/15/2016 08:55:02 AM', 'Ward': 5.0, 'XCoordinate': 1186357.0, 'YCoordinate': 1854748.0, 'Year': 2004}\n",
      "{'_id': ObjectId('5dd7b5e0bcd0616fd50d3b71'), 'ID': 3667459, 'Arrest': 'False', 'Beat': 411, 'Block': '076XX S SOUTH CHICAGO AVE', 'CaseNumber': 'HK767988', 'CommunityArea': 43.0, 'Date': '11/23/2004 02:15:00 AM', 'Description': 'AGGRAVATED: HANDGUN', 'District': 4.0, 'Domestic': 'False', 'FBICode': '04B', 'IUCR': '041A', 'Latitude': 41.756550472, 'Location': '(41.756550472, -87.592600053)', 'LocationDescription': 'GAS STATION', 'Longitude': -87.592600053, 'PrimaryType': 'BATTERY', 'UpdatedOn': '04/15/2016 08:55:02 AM', 'Ward': 5.0, 'XCoordinate': 1186357.0, 'YCoordinate': 1854748.0, 'Year': 2004}\n"
     ]
    }
   ],
   "source": [
    "# list 5 cases happened at gas station on 23 Nov 2004\n",
    "# db.things.find({LocationDescription : \"GAS STATION\", Date : {$regex : \"11/23/2004\", $options : \"<11/23/2004>\"}})\n",
    "\n",
    "count = 5\n",
    "i=0\n",
    "query = {\"LocationDescription\" : \"GAS STATION\", \"Date\" : {\"$regex\" : \"11/23/2004\", \"$options\" : \"<11/23/2004>\"}}\n",
    "for x in mycol.find(query):\n",
    "    while i<count:\n",
    "        print(x)\n",
    "        i+=1\n",
    "    break"
   ]
  },
  {
   "cell_type": "markdown",
   "metadata": {},
   "source": [
    "## Find Query with Query Operators"
   ]
  },
  {
   "cell_type": "markdown",
   "metadata": {},
   "source": [
    "### i) $in"
   ]
  },
  {
   "cell_type": "code",
   "execution_count": 11,
   "metadata": {
    "collapsed": false
   },
   "outputs": [
    {
     "name": "stdout",
     "output_type": "stream",
     "text": [
      "{'_id': ObjectId('5dd7b513bcd0616fd5abbc45'), 'ID': 3753789, 'Arrest': 'False', 'Beat': 523, 'Block': '126XX S HALSTED ST', 'CaseNumber': 'HL123269', 'CommunityArea': 53.0, 'Date': '01/13/2005 07:05:00 PM', 'Description': 'PURSE-SNATCHING', 'District': 5.0, 'Domestic': 'False', 'FBICode': 6, 'IUCR': 880, 'Latitude': 41.664294511, 'Location': '(41.664294511, -87.641455374)', 'LocationDescription': 'SIDEWALK', 'Longitude': -87.641455374, 'PrimaryType': 'THEFT', 'UpdatedOn': '04/15/2016 08:55:02 AM', 'Ward': 34.0, 'XCoordinate': 1173297.0, 'YCoordinate': 1821020.0, 'Year': 2005}\n",
      "{'_id': ObjectId('5dd7b513bcd0616fd5abbc45'), 'ID': 3753789, 'Arrest': 'False', 'Beat': 523, 'Block': '126XX S HALSTED ST', 'CaseNumber': 'HL123269', 'CommunityArea': 53.0, 'Date': '01/13/2005 07:05:00 PM', 'Description': 'PURSE-SNATCHING', 'District': 5.0, 'Domestic': 'False', 'FBICode': 6, 'IUCR': 880, 'Latitude': 41.664294511, 'Location': '(41.664294511, -87.641455374)', 'LocationDescription': 'SIDEWALK', 'Longitude': -87.641455374, 'PrimaryType': 'THEFT', 'UpdatedOn': '04/15/2016 08:55:02 AM', 'Ward': 34.0, 'XCoordinate': 1173297.0, 'YCoordinate': 1821020.0, 'Year': 2005}\n",
      "{'_id': ObjectId('5dd7b513bcd0616fd5abbc45'), 'ID': 3753789, 'Arrest': 'False', 'Beat': 523, 'Block': '126XX S HALSTED ST', 'CaseNumber': 'HL123269', 'CommunityArea': 53.0, 'Date': '01/13/2005 07:05:00 PM', 'Description': 'PURSE-SNATCHING', 'District': 5.0, 'Domestic': 'False', 'FBICode': 6, 'IUCR': 880, 'Latitude': 41.664294511, 'Location': '(41.664294511, -87.641455374)', 'LocationDescription': 'SIDEWALK', 'Longitude': -87.641455374, 'PrimaryType': 'THEFT', 'UpdatedOn': '04/15/2016 08:55:02 AM', 'Ward': 34.0, 'XCoordinate': 1173297.0, 'YCoordinate': 1821020.0, 'Year': 2005}\n",
      "{'_id': ObjectId('5dd7b513bcd0616fd5abbc45'), 'ID': 3753789, 'Arrest': 'False', 'Beat': 523, 'Block': '126XX S HALSTED ST', 'CaseNumber': 'HL123269', 'CommunityArea': 53.0, 'Date': '01/13/2005 07:05:00 PM', 'Description': 'PURSE-SNATCHING', 'District': 5.0, 'Domestic': 'False', 'FBICode': 6, 'IUCR': 880, 'Latitude': 41.664294511, 'Location': '(41.664294511, -87.641455374)', 'LocationDescription': 'SIDEWALK', 'Longitude': -87.641455374, 'PrimaryType': 'THEFT', 'UpdatedOn': '04/15/2016 08:55:02 AM', 'Ward': 34.0, 'XCoordinate': 1173297.0, 'YCoordinate': 1821020.0, 'Year': 2005}\n",
      "{'_id': ObjectId('5dd7b513bcd0616fd5abbc45'), 'ID': 3753789, 'Arrest': 'False', 'Beat': 523, 'Block': '126XX S HALSTED ST', 'CaseNumber': 'HL123269', 'CommunityArea': 53.0, 'Date': '01/13/2005 07:05:00 PM', 'Description': 'PURSE-SNATCHING', 'District': 5.0, 'Domestic': 'False', 'FBICode': 6, 'IUCR': 880, 'Latitude': 41.664294511, 'Location': '(41.664294511, -87.641455374)', 'LocationDescription': 'SIDEWALK', 'Longitude': -87.641455374, 'PrimaryType': 'THEFT', 'UpdatedOn': '04/15/2016 08:55:02 AM', 'Ward': 34.0, 'XCoordinate': 1173297.0, 'YCoordinate': 1821020.0, 'Year': 2005}\n",
      "{'_id': ObjectId('5dd7b513bcd0616fd5abbc45'), 'ID': 3753789, 'Arrest': 'False', 'Beat': 523, 'Block': '126XX S HALSTED ST', 'CaseNumber': 'HL123269', 'CommunityArea': 53.0, 'Date': '01/13/2005 07:05:00 PM', 'Description': 'PURSE-SNATCHING', 'District': 5.0, 'Domestic': 'False', 'FBICode': 6, 'IUCR': 880, 'Latitude': 41.664294511, 'Location': '(41.664294511, -87.641455374)', 'LocationDescription': 'SIDEWALK', 'Longitude': -87.641455374, 'PrimaryType': 'THEFT', 'UpdatedOn': '04/15/2016 08:55:02 AM', 'Ward': 34.0, 'XCoordinate': 1173297.0, 'YCoordinate': 1821020.0, 'Year': 2005}\n",
      "{'_id': ObjectId('5dd7b513bcd0616fd5abbc45'), 'ID': 3753789, 'Arrest': 'False', 'Beat': 523, 'Block': '126XX S HALSTED ST', 'CaseNumber': 'HL123269', 'CommunityArea': 53.0, 'Date': '01/13/2005 07:05:00 PM', 'Description': 'PURSE-SNATCHING', 'District': 5.0, 'Domestic': 'False', 'FBICode': 6, 'IUCR': 880, 'Latitude': 41.664294511, 'Location': '(41.664294511, -87.641455374)', 'LocationDescription': 'SIDEWALK', 'Longitude': -87.641455374, 'PrimaryType': 'THEFT', 'UpdatedOn': '04/15/2016 08:55:02 AM', 'Ward': 34.0, 'XCoordinate': 1173297.0, 'YCoordinate': 1821020.0, 'Year': 2005}\n",
      "{'_id': ObjectId('5dd7b513bcd0616fd5abbc45'), 'ID': 3753789, 'Arrest': 'False', 'Beat': 523, 'Block': '126XX S HALSTED ST', 'CaseNumber': 'HL123269', 'CommunityArea': 53.0, 'Date': '01/13/2005 07:05:00 PM', 'Description': 'PURSE-SNATCHING', 'District': 5.0, 'Domestic': 'False', 'FBICode': 6, 'IUCR': 880, 'Latitude': 41.664294511, 'Location': '(41.664294511, -87.641455374)', 'LocationDescription': 'SIDEWALK', 'Longitude': -87.641455374, 'PrimaryType': 'THEFT', 'UpdatedOn': '04/15/2016 08:55:02 AM', 'Ward': 34.0, 'XCoordinate': 1173297.0, 'YCoordinate': 1821020.0, 'Year': 2005}\n",
      "{'_id': ObjectId('5dd7b513bcd0616fd5abbc45'), 'ID': 3753789, 'Arrest': 'False', 'Beat': 523, 'Block': '126XX S HALSTED ST', 'CaseNumber': 'HL123269', 'CommunityArea': 53.0, 'Date': '01/13/2005 07:05:00 PM', 'Description': 'PURSE-SNATCHING', 'District': 5.0, 'Domestic': 'False', 'FBICode': 6, 'IUCR': 880, 'Latitude': 41.664294511, 'Location': '(41.664294511, -87.641455374)', 'LocationDescription': 'SIDEWALK', 'Longitude': -87.641455374, 'PrimaryType': 'THEFT', 'UpdatedOn': '04/15/2016 08:55:02 AM', 'Ward': 34.0, 'XCoordinate': 1173297.0, 'YCoordinate': 1821020.0, 'Year': 2005}\n",
      "{'_id': ObjectId('5dd7b513bcd0616fd5abbc45'), 'ID': 3753789, 'Arrest': 'False', 'Beat': 523, 'Block': '126XX S HALSTED ST', 'CaseNumber': 'HL123269', 'CommunityArea': 53.0, 'Date': '01/13/2005 07:05:00 PM', 'Description': 'PURSE-SNATCHING', 'District': 5.0, 'Domestic': 'False', 'FBICode': 6, 'IUCR': 880, 'Latitude': 41.664294511, 'Location': '(41.664294511, -87.641455374)', 'LocationDescription': 'SIDEWALK', 'Longitude': -87.641455374, 'PrimaryType': 'THEFT', 'UpdatedOn': '04/15/2016 08:55:02 AM', 'Ward': 34.0, 'XCoordinate': 1173297.0, 'YCoordinate': 1821020.0, 'Year': 2005}\n"
     ]
    }
   ],
   "source": [
    "# list five of theft or robbery cases\n",
    "# db.things.find( { PrimaryType: { $in: [ \"THEFT\", \"ROBBERY\" ] } } ).pretty() \n",
    "\n",
    "count = 10\n",
    "i=0\n",
    "query ={ \"PrimaryType\": { \"$in\": [ \"THEFT\", \"ROBBERY\" ] } } \n",
    "for x in mycol.find(query):\n",
    "    while i<count:\n",
    "        print(x)\n",
    "        i+=1\n",
    "    break"
   ]
  },
  {
   "cell_type": "markdown",
   "metadata": {},
   "source": [
    "## ii) AND & $gte"
   ]
  },
  {
   "cell_type": "code",
   "execution_count": 12,
   "metadata": {
    "collapsed": false
   },
   "outputs": [
    {
     "name": "stdout",
     "output_type": "stream",
     "text": [
      "{'_id': ObjectId('5dd7b513bcd0616fd5abbcbd'), 'ID': 10505717, 'Arrest': 'False', 'Beat': 611, 'Block': '075XX S DAMEN AVE', 'CaseNumber': 'HZ247265', 'CommunityArea': 67.0, 'Date': '04/29/2016 06:30:00 PM', 'Description': 'FORCIBLE ENTRY', 'District': 6.0, 'Domestic': 'False', 'FBICode': 5, 'IUCR': 610, 'Latitude': 41.756844937, 'Location': '(41.756844937, -87.673319438)', 'LocationDescription': 'RESIDENCE', 'Longitude': -87.673319438, 'PrimaryType': 'BURGLARY', 'UpdatedOn': '05/06/2016 03:50:51 PM', 'Ward': 18.0, 'XCoordinate': 1164332.0, 'YCoordinate': 1854676.0, 'Year': 2016}\n",
      "{'_id': ObjectId('5dd7b513bcd0616fd5abbcbd'), 'ID': 10505717, 'Arrest': 'False', 'Beat': 611, 'Block': '075XX S DAMEN AVE', 'CaseNumber': 'HZ247265', 'CommunityArea': 67.0, 'Date': '04/29/2016 06:30:00 PM', 'Description': 'FORCIBLE ENTRY', 'District': 6.0, 'Domestic': 'False', 'FBICode': 5, 'IUCR': 610, 'Latitude': 41.756844937, 'Location': '(41.756844937, -87.673319438)', 'LocationDescription': 'RESIDENCE', 'Longitude': -87.673319438, 'PrimaryType': 'BURGLARY', 'UpdatedOn': '05/06/2016 03:50:51 PM', 'Ward': 18.0, 'XCoordinate': 1164332.0, 'YCoordinate': 1854676.0, 'Year': 2016}\n",
      "{'_id': ObjectId('5dd7b513bcd0616fd5abbcbd'), 'ID': 10505717, 'Arrest': 'False', 'Beat': 611, 'Block': '075XX S DAMEN AVE', 'CaseNumber': 'HZ247265', 'CommunityArea': 67.0, 'Date': '04/29/2016 06:30:00 PM', 'Description': 'FORCIBLE ENTRY', 'District': 6.0, 'Domestic': 'False', 'FBICode': 5, 'IUCR': 610, 'Latitude': 41.756844937, 'Location': '(41.756844937, -87.673319438)', 'LocationDescription': 'RESIDENCE', 'Longitude': -87.673319438, 'PrimaryType': 'BURGLARY', 'UpdatedOn': '05/06/2016 03:50:51 PM', 'Ward': 18.0, 'XCoordinate': 1164332.0, 'YCoordinate': 1854676.0, 'Year': 2016}\n",
      "{'_id': ObjectId('5dd7b513bcd0616fd5abbcbd'), 'ID': 10505717, 'Arrest': 'False', 'Beat': 611, 'Block': '075XX S DAMEN AVE', 'CaseNumber': 'HZ247265', 'CommunityArea': 67.0, 'Date': '04/29/2016 06:30:00 PM', 'Description': 'FORCIBLE ENTRY', 'District': 6.0, 'Domestic': 'False', 'FBICode': 5, 'IUCR': 610, 'Latitude': 41.756844937, 'Location': '(41.756844937, -87.673319438)', 'LocationDescription': 'RESIDENCE', 'Longitude': -87.673319438, 'PrimaryType': 'BURGLARY', 'UpdatedOn': '05/06/2016 03:50:51 PM', 'Ward': 18.0, 'XCoordinate': 1164332.0, 'YCoordinate': 1854676.0, 'Year': 2016}\n",
      "{'_id': ObjectId('5dd7b513bcd0616fd5abbcbd'), 'ID': 10505717, 'Arrest': 'False', 'Beat': 611, 'Block': '075XX S DAMEN AVE', 'CaseNumber': 'HZ247265', 'CommunityArea': 67.0, 'Date': '04/29/2016 06:30:00 PM', 'Description': 'FORCIBLE ENTRY', 'District': 6.0, 'Domestic': 'False', 'FBICode': 5, 'IUCR': 610, 'Latitude': 41.756844937, 'Location': '(41.756844937, -87.673319438)', 'LocationDescription': 'RESIDENCE', 'Longitude': -87.673319438, 'PrimaryType': 'BURGLARY', 'UpdatedOn': '05/06/2016 03:50:51 PM', 'Ward': 18.0, 'XCoordinate': 1164332.0, 'YCoordinate': 1854676.0, 'Year': 2016}\n"
     ]
    }
   ],
   "source": [
    "# list cases which the criminal is underarrest and happened after year 2015\n",
    "# db.things.find( { Arrest: \"False\", Year: { $gte: 2015 } } )\n",
    "count = 5\n",
    "i=0\n",
    "query ={ \"Arrest\": \"False\", \"Year\": { \"$gte\": 2015 } }\n",
    "for x in mycol.find(query):\n",
    "    while i<count:\n",
    "        print(x)\n",
    "        i+=1\n",
    "    break"
   ]
  },
  {
   "cell_type": "markdown",
   "metadata": {},
   "source": [
    "## iii) $or"
   ]
  },
  {
   "cell_type": "code",
   "execution_count": 14,
   "metadata": {
    "collapsed": false
   },
   "outputs": [
    {
     "name": "stdout",
     "output_type": "stream",
     "text": [
      "{'_id': ObjectId('5dd7b513bcd0616fd5abbc98'), 'ID': 3753922, 'Arrest': 'False', 'Beat': 1115, 'Block': '001XX S PULASKI RD', 'CaseNumber': 'HL117960', 'CommunityArea': 26.0, 'Date': '01/11/2005 08:25:42 AM', 'Description': 'ARMED: HANDGUN', 'District': 11.0, 'Domestic': 'False', 'FBICode': 3, 'IUCR': '031A', 'Latitude': 41.87862256, 'Location': '(41.87862256, -87.72559838)', 'LocationDescription': 'SIDEWALK', 'Longitude': -87.72559838, 'PrimaryType': 'ROBBERY', 'UpdatedOn': '04/15/2016 08:55:02 AM', 'Ward': 28.0, 'XCoordinate': 1149754.0, 'YCoordinate': 1898946.0, 'Year': 2005}\n",
      "{'_id': ObjectId('5dd7b513bcd0616fd5abbc98'), 'ID': 3753922, 'Arrest': 'False', 'Beat': 1115, 'Block': '001XX S PULASKI RD', 'CaseNumber': 'HL117960', 'CommunityArea': 26.0, 'Date': '01/11/2005 08:25:42 AM', 'Description': 'ARMED: HANDGUN', 'District': 11.0, 'Domestic': 'False', 'FBICode': 3, 'IUCR': '031A', 'Latitude': 41.87862256, 'Location': '(41.87862256, -87.72559838)', 'LocationDescription': 'SIDEWALK', 'Longitude': -87.72559838, 'PrimaryType': 'ROBBERY', 'UpdatedOn': '04/15/2016 08:55:02 AM', 'Ward': 28.0, 'XCoordinate': 1149754.0, 'YCoordinate': 1898946.0, 'Year': 2005}\n",
      "{'_id': ObjectId('5dd7b513bcd0616fd5abbc98'), 'ID': 3753922, 'Arrest': 'False', 'Beat': 1115, 'Block': '001XX S PULASKI RD', 'CaseNumber': 'HL117960', 'CommunityArea': 26.0, 'Date': '01/11/2005 08:25:42 AM', 'Description': 'ARMED: HANDGUN', 'District': 11.0, 'Domestic': 'False', 'FBICode': 3, 'IUCR': '031A', 'Latitude': 41.87862256, 'Location': '(41.87862256, -87.72559838)', 'LocationDescription': 'SIDEWALK', 'Longitude': -87.72559838, 'PrimaryType': 'ROBBERY', 'UpdatedOn': '04/15/2016 08:55:02 AM', 'Ward': 28.0, 'XCoordinate': 1149754.0, 'YCoordinate': 1898946.0, 'Year': 2005}\n",
      "{'_id': ObjectId('5dd7b513bcd0616fd5abbc98'), 'ID': 3753922, 'Arrest': 'False', 'Beat': 1115, 'Block': '001XX S PULASKI RD', 'CaseNumber': 'HL117960', 'CommunityArea': 26.0, 'Date': '01/11/2005 08:25:42 AM', 'Description': 'ARMED: HANDGUN', 'District': 11.0, 'Domestic': 'False', 'FBICode': 3, 'IUCR': '031A', 'Latitude': 41.87862256, 'Location': '(41.87862256, -87.72559838)', 'LocationDescription': 'SIDEWALK', 'Longitude': -87.72559838, 'PrimaryType': 'ROBBERY', 'UpdatedOn': '04/15/2016 08:55:02 AM', 'Ward': 28.0, 'XCoordinate': 1149754.0, 'YCoordinate': 1898946.0, 'Year': 2005}\n",
      "{'_id': ObjectId('5dd7b513bcd0616fd5abbc98'), 'ID': 3753922, 'Arrest': 'False', 'Beat': 1115, 'Block': '001XX S PULASKI RD', 'CaseNumber': 'HL117960', 'CommunityArea': 26.0, 'Date': '01/11/2005 08:25:42 AM', 'Description': 'ARMED: HANDGUN', 'District': 11.0, 'Domestic': 'False', 'FBICode': 3, 'IUCR': '031A', 'Latitude': 41.87862256, 'Location': '(41.87862256, -87.72559838)', 'LocationDescription': 'SIDEWALK', 'Longitude': -87.72559838, 'PrimaryType': 'ROBBERY', 'UpdatedOn': '04/15/2016 08:55:02 AM', 'Ward': 28.0, 'XCoordinate': 1149754.0, 'YCoordinate': 1898946.0, 'Year': 2005}\n"
     ]
    }
   ],
   "source": [
    "# list cases either be robbery or happened in year 2016\n",
    "# db.things.find( { $or: [ { PrimaryType: \"ROBBERY\" },  { Year: 2016  } ] } )\n",
    "\n",
    "count = 5\n",
    "i=0\n",
    "query ={ \"$or\": [ { \"PrimaryType\": \"ROBBERY\" },  { \"Year\": 2016  } ] }\n",
    "for x in mycol.find(query):\n",
    "    while i<count:\n",
    "        print(x)\n",
    "        i+=1\n",
    "    break"
   ]
  },
  {
   "cell_type": "code",
   "execution_count": 16,
   "metadata": {
    "collapsed": false
   },
   "outputs": [
    {
     "name": "stdout",
     "output_type": "stream",
     "text": [
      "{'_id': ObjectId('5dd7b513bcd0616fd5abbc98'), 'ID': 3753922, 'Arrest': 'False', 'Beat': 1115, 'Block': '001XX S PULASKI RD', 'CaseNumber': 'HL117960', 'CommunityArea': 26.0, 'Date': '01/11/2005 08:25:42 AM', 'Description': 'ARMED: HANDGUN', 'District': 11.0, 'Domestic': 'False', 'FBICode': 3, 'IUCR': '031A', 'Latitude': 41.87862256, 'Location': '(41.87862256, -87.72559838)', 'LocationDescription': 'SIDEWALK', 'Longitude': -87.72559838, 'PrimaryType': 'ROBBERY', 'UpdatedOn': '04/15/2016 08:55:02 AM', 'Ward': 28.0, 'XCoordinate': 1149754.0, 'YCoordinate': 1898946.0, 'Year': 2005}\n",
      "{'_id': ObjectId('5dd7b513bcd0616fd5abbc98'), 'ID': 3753922, 'Arrest': 'False', 'Beat': 1115, 'Block': '001XX S PULASKI RD', 'CaseNumber': 'HL117960', 'CommunityArea': 26.0, 'Date': '01/11/2005 08:25:42 AM', 'Description': 'ARMED: HANDGUN', 'District': 11.0, 'Domestic': 'False', 'FBICode': 3, 'IUCR': '031A', 'Latitude': 41.87862256, 'Location': '(41.87862256, -87.72559838)', 'LocationDescription': 'SIDEWALK', 'Longitude': -87.72559838, 'PrimaryType': 'ROBBERY', 'UpdatedOn': '04/15/2016 08:55:02 AM', 'Ward': 28.0, 'XCoordinate': 1149754.0, 'YCoordinate': 1898946.0, 'Year': 2005}\n",
      "{'_id': ObjectId('5dd7b513bcd0616fd5abbc98'), 'ID': 3753922, 'Arrest': 'False', 'Beat': 1115, 'Block': '001XX S PULASKI RD', 'CaseNumber': 'HL117960', 'CommunityArea': 26.0, 'Date': '01/11/2005 08:25:42 AM', 'Description': 'ARMED: HANDGUN', 'District': 11.0, 'Domestic': 'False', 'FBICode': 3, 'IUCR': '031A', 'Latitude': 41.87862256, 'Location': '(41.87862256, -87.72559838)', 'LocationDescription': 'SIDEWALK', 'Longitude': -87.72559838, 'PrimaryType': 'ROBBERY', 'UpdatedOn': '04/15/2016 08:55:02 AM', 'Ward': 28.0, 'XCoordinate': 1149754.0, 'YCoordinate': 1898946.0, 'Year': 2005}\n",
      "{'_id': ObjectId('5dd7b513bcd0616fd5abbc98'), 'ID': 3753922, 'Arrest': 'False', 'Beat': 1115, 'Block': '001XX S PULASKI RD', 'CaseNumber': 'HL117960', 'CommunityArea': 26.0, 'Date': '01/11/2005 08:25:42 AM', 'Description': 'ARMED: HANDGUN', 'District': 11.0, 'Domestic': 'False', 'FBICode': 3, 'IUCR': '031A', 'Latitude': 41.87862256, 'Location': '(41.87862256, -87.72559838)', 'LocationDescription': 'SIDEWALK', 'Longitude': -87.72559838, 'PrimaryType': 'ROBBERY', 'UpdatedOn': '04/15/2016 08:55:02 AM', 'Ward': 28.0, 'XCoordinate': 1149754.0, 'YCoordinate': 1898946.0, 'Year': 2005}\n",
      "{'_id': ObjectId('5dd7b513bcd0616fd5abbc98'), 'ID': 3753922, 'Arrest': 'False', 'Beat': 1115, 'Block': '001XX S PULASKI RD', 'CaseNumber': 'HL117960', 'CommunityArea': 26.0, 'Date': '01/11/2005 08:25:42 AM', 'Description': 'ARMED: HANDGUN', 'District': 11.0, 'Domestic': 'False', 'FBICode': 3, 'IUCR': '031A', 'Latitude': 41.87862256, 'Location': '(41.87862256, -87.72559838)', 'LocationDescription': 'SIDEWALK', 'Longitude': -87.72559838, 'PrimaryType': 'ROBBERY', 'UpdatedOn': '04/15/2016 08:55:02 AM', 'Ward': 28.0, 'XCoordinate': 1149754.0, 'YCoordinate': 1898946.0, 'Year': 2005}\n"
     ]
    }
   ],
   "source": [
    "# db.things.find( { $or: [ { PrimaryType: \"ROBBERY\" },  { Year: 2016  } ] } )\n",
    "# to check if change the sequence of the condition will change the results\n",
    "count = 5\n",
    "i=0\n",
    "query ={ \"$or\": [ { \"Year\": \"2016\"  },{ \"PrimaryType\": \"ROBBERY\" }   ] }\n",
    "for x in mycol.find(query):\n",
    "    while i<count:\n",
    "        print(x)\n",
    "        i+=1\n",
    "    break"
   ]
  },
  {
   "cell_type": "markdown",
   "metadata": {},
   "source": [
    "## iv) And &$or together"
   ]
  },
  {
   "cell_type": "code",
   "execution_count": 17,
   "metadata": {
    "collapsed": false
   },
   "outputs": [
    {
     "name": "stdout",
     "output_type": "stream",
     "text": [
      "{'_id': ObjectId('5dd7b514bcd0616fd5abe4cc'), 'ID': 10510866, 'Arrest': 'False', 'Beat': 921, 'Block': '041XX S ROCKWELL ST', 'CaseNumber': 'HZ214195', 'CommunityArea': 58.0, 'Date': '04/05/2016 12:15:00 PM', 'Description': 'ARMED: HANDGUN', 'District': 9.0, 'Domestic': 'False', 'FBICode': 3, 'IUCR': '031A', 'Latitude': '', 'Location': '', 'LocationDescription': 'RESIDENCE PORCH/HALLWAY', 'Longitude': '', 'PrimaryType': 'ROBBERY', 'UpdatedOn': '05/06/2016 03:50:51 PM', 'Ward': 12.0, 'XCoordinate': '', 'YCoordinate': '', 'Year': 2016}\n",
      "{'_id': ObjectId('5dd7b514bcd0616fd5abe4cc'), 'ID': 10510866, 'Arrest': 'False', 'Beat': 921, 'Block': '041XX S ROCKWELL ST', 'CaseNumber': 'HZ214195', 'CommunityArea': 58.0, 'Date': '04/05/2016 12:15:00 PM', 'Description': 'ARMED: HANDGUN', 'District': 9.0, 'Domestic': 'False', 'FBICode': 3, 'IUCR': '031A', 'Latitude': '', 'Location': '', 'LocationDescription': 'RESIDENCE PORCH/HALLWAY', 'Longitude': '', 'PrimaryType': 'ROBBERY', 'UpdatedOn': '05/06/2016 03:50:51 PM', 'Ward': 12.0, 'XCoordinate': '', 'YCoordinate': '', 'Year': 2016}\n",
      "{'_id': ObjectId('5dd7b514bcd0616fd5abe4cc'), 'ID': 10510866, 'Arrest': 'False', 'Beat': 921, 'Block': '041XX S ROCKWELL ST', 'CaseNumber': 'HZ214195', 'CommunityArea': 58.0, 'Date': '04/05/2016 12:15:00 PM', 'Description': 'ARMED: HANDGUN', 'District': 9.0, 'Domestic': 'False', 'FBICode': 3, 'IUCR': '031A', 'Latitude': '', 'Location': '', 'LocationDescription': 'RESIDENCE PORCH/HALLWAY', 'Longitude': '', 'PrimaryType': 'ROBBERY', 'UpdatedOn': '05/06/2016 03:50:51 PM', 'Ward': 12.0, 'XCoordinate': '', 'YCoordinate': '', 'Year': 2016}\n",
      "{'_id': ObjectId('5dd7b514bcd0616fd5abe4cc'), 'ID': 10510866, 'Arrest': 'False', 'Beat': 921, 'Block': '041XX S ROCKWELL ST', 'CaseNumber': 'HZ214195', 'CommunityArea': 58.0, 'Date': '04/05/2016 12:15:00 PM', 'Description': 'ARMED: HANDGUN', 'District': 9.0, 'Domestic': 'False', 'FBICode': 3, 'IUCR': '031A', 'Latitude': '', 'Location': '', 'LocationDescription': 'RESIDENCE PORCH/HALLWAY', 'Longitude': '', 'PrimaryType': 'ROBBERY', 'UpdatedOn': '05/06/2016 03:50:51 PM', 'Ward': 12.0, 'XCoordinate': '', 'YCoordinate': '', 'Year': 2016}\n",
      "{'_id': ObjectId('5dd7b514bcd0616fd5abe4cc'), 'ID': 10510866, 'Arrest': 'False', 'Beat': 921, 'Block': '041XX S ROCKWELL ST', 'CaseNumber': 'HZ214195', 'CommunityArea': 58.0, 'Date': '04/05/2016 12:15:00 PM', 'Description': 'ARMED: HANDGUN', 'District': 9.0, 'Domestic': 'False', 'FBICode': 3, 'IUCR': '031A', 'Latitude': '', 'Location': '', 'LocationDescription': 'RESIDENCE PORCH/HALLWAY', 'Longitude': '', 'PrimaryType': 'ROBBERY', 'UpdatedOn': '05/06/2016 03:50:51 PM', 'Ward': 12.0, 'XCoordinate': '', 'YCoordinate': '', 'Year': 2016}\n"
     ]
    }
   ],
   "source": [
    "# db.things.find({PrimaryType:\"ROBBERY\",\n",
    "# $or:[{Year:2016},{Year:2017}]})\n",
    "\n",
    "count = 5\n",
    "i=0\n",
    "query ={\"PrimaryType\":\"ROBBERY\",\"$or\":[{\"Year\":2016},{\"Year\":2017}]}\n",
    "for x in mycol.find(query):\n",
    "    while i<count:\n",
    "        print(x)\n",
    "        i+=1\n",
    "    break"
   ]
  },
  {
   "cell_type": "markdown",
   "metadata": {},
   "source": [
    "## Aggregation Query"
   ]
  },
  {
   "cell_type": "code",
   "execution_count": 19,
   "metadata": {
    "collapsed": false
   },
   "outputs": [
    {
     "name": "stdout",
     "output_type": "stream",
     "text": [
      "{'_id': {'Year': 2004}, 'totalCases': 57060}\n",
      "{'_id': {'Year': 2005}, 'totalCases': 56234}\n",
      "{'_id': {'Year': 2006}, 'totalCases': 55813}\n",
      "{'_id': {'Year': 2007}, 'totalCases': 54454}\n",
      "{'_id': {'Year': 2003}, 'totalCases': 54288}\n",
      "{'_id': {'Year': 2002}, 'totalCases': 51789}\n",
      "{'_id': {'Year': 2001}, 'totalCases': 50567}\n",
      "{'_id': {'Year': 2008}, 'totalCases': 46507}\n",
      "{'_id': {'Year': 2009}, 'totalCases': 43543}\n",
      "{'_id': {'Year': 2010}, 'totalCases': 43393}\n",
      "{'_id': {'Year': 2011}, 'totalCases': 38605}\n",
      "{'_id': {'Year': 2012}, 'totalCases': 35488}\n",
      "{'_id': {'Year': 2013}, 'totalCases': 34127}\n",
      "{'_id': {'Year': 2014}, 'totalCases': 28995}\n",
      "{'_id': {'Year': 2015}, 'totalCases': 23837}\n",
      "{'_id': {'Year': 2016}, 'totalCases': 13257}\n",
      "{'_id': {'Year': 2017}, 'totalCases': 8594}\n"
     ]
    }
   ],
   "source": [
    "#sum the cases happened according to years\n",
    "# db.things.aggregate([{$match : {\"PrimaryType\" : \"NARCOTICS\"}}, \n",
    "# {$group : {_id : {Year : \"$Year\"}, totalCases : \n",
    "# {$sum :1}}},{$sort : {totalCases : -1}}])\n",
    "\n",
    "##Select and Use Collections\n",
    "mycol = mydb[\"things\"]\n",
    "\n",
    "query ={\"PrimaryType\":\"ROBBERY\",\"$or\":[{\"Year\":2016},{\"Year\":2017}]}\n",
    "for x in mycol.aggregate([{\"$match\" : {\"PrimaryType\" : \"NARCOTICS\"}}, \n",
    "                          {\"$group\" : {\"_id\" : {\"Year\" : \"$Year\"}, \"totalCases\" : \n",
    "                                       {\"$sum\":1}}},{\"$sort\" : {\"totalCases\" : -1}}]):\n",
    "    print(x)"
   ]
  },
  {
   "cell_type": "markdown",
   "metadata": {},
   "source": [
    "## Geospatial Query"
   ]
  },
  {
   "cell_type": "code",
   "execution_count": 22,
   "metadata": {
    "collapsed": true
   },
   "outputs": [],
   "source": [
    "p1 = [-87.80582, 41.90899] \n",
    "\n",
    "p2 = [-87.79930, 41.71909] \n",
    "\n",
    "p3 = [-87.60444, 41.72225] \n",
    "\n",
    "p4 = [-87.63451, 41.9115] "
   ]
  },
  {
   "cell_type": "code",
   "execution_count": 26,
   "metadata": {
    "collapsed": true
   },
   "outputs": [],
   "source": [
    "places = mydb[\"places\"]"
   ]
  },
  {
   "cell_type": "code",
   "execution_count": 27,
   "metadata": {
    "collapsed": false
   },
   "outputs": [],
   "source": [
    "mydict1 = { \"name\" : \"ROBBERY\", \"location\" : {\"type\" : \"Point\", \"coordinates\" : [-87.74529, 41.87679]}}\n",
    "mydict2 = { \"name\" : \"CRIMINAL TRESPASS\", \"location\" : {\"type\" : \"Point\", \"coordinates\" : [-87.62309, 41.69235]}}\n",
    "mydict3 = { \"name\" : \"CRIMINAL DAMAGE\", \"location\" : {\"type\" : \"Point\", \"coordinates\" : [-87.6379, 41.70437]}} \n",
    "mydict4 = { \"name\" : \"NARCOTICS\", \"location\" : {\"type\" : \"Point\", \"coordinates\" : [-87.62686, 41.84135]}} \n",
    "\n",
    "x = places.insert_one(mydict1)\n",
    "x = places.insert_one(mydict2)\n",
    "x = places.insert_one(mydict3)\n",
    "x = places.insert_one(mydict4)\n"
   ]
  },
  {
   "cell_type": "code",
   "execution_count": 28,
   "metadata": {
    "collapsed": false
   },
   "outputs": [
    {
     "name": "stdout",
     "output_type": "stream",
     "text": [
      "{'_id': ObjectId('5dea8458ff64958c1d202e62'), 'name': 'ROBBERY', 'location': {'type': 'Point', 'coordinates': [-87.74529, 41.87679]}}\n",
      "{'_id': ObjectId('5dea8458ff64958c1d202e65'), 'name': 'NARCOTICS', 'location': {'type': 'Point', 'coordinates': [-87.62686, 41.84135]}}\n",
      "{'_id': ObjectId('5dea8463ff64958c1d202e66'), 'name': 'ROBBERY', 'location': {'type': 'Point', 'coordinates': [-87.74529, 41.87679]}}\n",
      "{'_id': ObjectId('5dea8463ff64958c1d202e69'), 'name': 'NARCOTICS', 'location': {'type': 'Point', 'coordinates': [-87.62686, 41.84135]}}\n"
     ]
    }
   ],
   "source": [
    "for x in places.find({\"location\" : {\"$geoWithin\" : {\"$geometry\" : \n",
    "                                                    {\"type\" : \"Polygon\", \"coordinates\" : \n",
    "                                                     [[p1,p2,p3,p4,p1]]}}}}):\n",
    "    print(x)"
   ]
  }
 ],
 "metadata": {
  "kernelspec": {
   "display_name": "Python 3",
   "language": "python",
   "name": "python3"
  },
  "language_info": {
   "codemirror_mode": {
    "name": "ipython",
    "version": 3
   },
   "file_extension": ".py",
   "mimetype": "text/x-python",
   "name": "python",
   "nbconvert_exporter": "python",
   "pygments_lexer": "ipython3",
   "version": "3.6.0"
  }
 },
 "nbformat": 4,
 "nbformat_minor": 2
}
